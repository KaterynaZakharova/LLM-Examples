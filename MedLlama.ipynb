{
  "metadata": {
    "kernelspec": {
      "name": "python3",
      "display_name": "Python 3"
    },
    "language_info": {
      "name": "python",
      "version": "3.11.11",
      "mimetype": "text/x-python",
      "codemirror_mode": {
        "name": "ipython",
        "version": 3
      },
      "pygments_lexer": "ipython3",
      "nbconvert_exporter": "python",
      "file_extension": ".py"
    },
    "colab": {
      "provenance": []
    },
    "kaggle": {
      "accelerator": "none",
      "dataSources": [
        {
          "sourceId": 11493083,
          "sourceType": "datasetVersion",
          "datasetId": 7194976
        }
      ],
      "dockerImageVersionId": 31011,
      "isInternetEnabled": true,
      "language": "python",
      "sourceType": "notebook",
      "isGpuEnabled": false
    }
  },
  "nbformat_minor": 0,
  "nbformat": 4,
  "cells": [
    {
      "cell_type": "markdown",
      "source": [
        "Before running the notebook, please read the cell below. There you can find two flags:\n",
        "\n",
        "`DRY_RUN`:\n",
        "*   `True` - use a prepared validation set, do not run prediction\n",
        "*   `False` - run prediction on a new validation dataset (prediction: ~12 sec/row)\n",
        "\n",
        "`GDRIVE` (link to data: [GDrive Share](https://drive.google.com/drive/folders/1ZKX9aQNIsRchM8bJfkeaX-0JUGYjnTin?usp=sharing) - add folder shortcut to your Drive):\n",
        "*   `True` - if you run data in colab and use my GDRIVE to access data\n",
        "*   `False` - if you run locally or without access to my Google Drive (please, make sure to keep the same file structure for seamless notebook running)\n",
        "\n",
        "If you confirm the settings, you can click \"**Run All**\".  "
      ],
      "metadata": {
        "id": "BYaefp67VtRs"
      }
    },
    {
      "cell_type": "code",
      "source": [
        "# notebook setting\n",
        "DRY_RUN = True  # check False if need to run prediction (takes a while)\n",
        "GDRIVE = True  # check False if runs locally\n",
        "\n",
        "if GDRIVE:\n",
        "    from google.colab import drive\n",
        "    drive.mount('/content/drive')"
      ],
      "metadata": {
        "colab": {
          "base_uri": "https://localhost:8080/"
        },
        "id": "btgWF-bsIPvE",
        "outputId": "7bc1b74d-b68d-4cbc-e0cd-e350bef3e272"
      },
      "execution_count": null,
      "outputs": [
        {
          "output_type": "stream",
          "name": "stdout",
          "text": [
            "Mounted at /content/drive\n"
          ]
        }
      ]
    },
    {
      "cell_type": "markdown",
      "source": [
        "### Requirements"
      ],
      "metadata": {
        "id": "FFgLXHAVnb7_"
      }
    },
    {
      "cell_type": "code",
      "source": [
        "!pip install -q msoffcrypto-tool\n",
        "if not DRY_RUN:\n",
        "    !pip install -qU bitsandbytes\n",
        "    !pip install -qU transformers accelerate\n",
        "    # !pip install datasets"
      ],
      "metadata": {
        "colab": {
          "base_uri": "https://localhost:8080/"
        },
        "id": "Ff7NerW4hWi7",
        "outputId": "9d524eae-2750-4fbd-ef69-20f57b37ec09",
        "trusted": true,
        "execution": {
          "iopub.status.busy": "2025-04-21T01:52:46.555195Z",
          "iopub.execute_input": "2025-04-21T01:52:46.555715Z",
          "iopub.status.idle": "2025-04-21T01:54:16.284224Z",
          "shell.execute_reply.started": "2025-04-21T01:52:46.555694Z",
          "shell.execute_reply": "2025-04-21T01:54:16.283306Z"
        }
      },
      "outputs": [
        {
          "output_type": "stream",
          "name": "stdout",
          "text": [
            "\u001b[?25l   \u001b[90m━━━━━━━━━━━━━━━━━━━━━━━━━━━━━━━━━━━━━━━━\u001b[0m \u001b[32m0.0/48.7 kB\u001b[0m \u001b[31m?\u001b[0m eta \u001b[36m-:--:--\u001b[0m\r\u001b[2K   \u001b[90m━━━━━━━━━━━━━━━━━━━━━━━━━━━━━━━━━━━━━━━━\u001b[0m \u001b[32m48.7/48.7 kB\u001b[0m \u001b[31m2.0 MB/s\u001b[0m eta \u001b[36m0:00:00\u001b[0m\n",
            "\u001b[?25h\u001b[?25l   \u001b[90m━━━━━━━━━━━━━━━━━━━━━━━━━━━━━━━━━━━━━━━━\u001b[0m \u001b[32m0.0/114.6 kB\u001b[0m \u001b[31m?\u001b[0m eta \u001b[36m-:--:--\u001b[0m\r\u001b[2K   \u001b[90m━━━━━━━━━━━━━━━━━━━━━━━━━━━━━━━━━━━━━━━━\u001b[0m \u001b[32m114.6/114.6 kB\u001b[0m \u001b[31m4.7 MB/s\u001b[0m eta \u001b[36m0:00:00\u001b[0m\n",
            "\u001b[?25h"
          ]
        }
      ],
      "execution_count": null
    },
    {
      "cell_type": "markdown",
      "source": [
        "### Imports"
      ],
      "metadata": {
        "id": "7iI3BWLFRUCO"
      }
    },
    {
      "cell_type": "code",
      "source": [
        "# read data\n",
        "import os\n",
        "from io import BytesIO\n",
        "import msoffcrypto\n",
        "\n",
        "# process data\n",
        "import numpy as np\n",
        "import pandas as pd\n",
        "import re, json\n",
        "\n",
        "# LLM\n",
        "if not DRY_RUN:\n",
        "  from transformers import AutoTokenizer, AutoModelForCausalLM\n",
        "  import torch\n",
        "\n",
        "# performance\n",
        "from sklearn.metrics import (\n",
        "    confusion_matrix,\n",
        "    precision_score,\n",
        "    recall_score,\n",
        "    f1_score,\n",
        "    fbeta_score,\n",
        "    roc_auc_score\n",
        ")"
      ],
      "metadata": {
        "id": "YkyOZnAwRTms",
        "trusted": true,
        "execution": {
          "iopub.status.busy": "2025-04-21T01:54:16.286147Z",
          "iopub.execute_input": "2025-04-21T01:54:16.286452Z",
          "iopub.status.idle": "2025-04-21T01:54:25.990227Z",
          "shell.execute_reply.started": "2025-04-21T01:54:16.286422Z",
          "shell.execute_reply": "2025-04-21T01:54:25.989698Z"
        }
      },
      "outputs": [],
      "execution_count": null
    },
    {
      "cell_type": "markdown",
      "source": [
        "### Vars"
      ],
      "metadata": {
        "id": "6Fe92ukyRcfv"
      }
    },
    {
      "cell_type": "code",
      "source": [
        "# read data\n",
        "DRIVE_PATH = r'/content/drive/MyDrive/MedicalRecords/' if GDRIVE else ''\n",
        "PATH_TO_DATA = DRIVE_PATH + 'medical_records_dataset.xlsx'\n",
        "PASSWORD = '---'\n",
        "SHEETS = ['Harmonized_Labeled', 'Seperate_Labeled']\n",
        "PATH_TO_DATA_HARMONIZED = DRIVE_PATH + 'data_harmonized.csv'\n",
        "PATH_TO_DATA_SEPARATE = DRIVE_PATH + 'data_separate.csv'\n",
        "PATH_TO_VAL_DATA = DRIVE_PATH + 'val_df.csv'\n",
        "\n",
        "# process data\n",
        "ALL_COLUMNS = ['note', 'stroke', 'diabetes', 'cancer', 'heart_attack']\n",
        "SYMPTOMS_COLS = ALL_COLUMNS[1:]\n",
        "\n",
        "# model\n",
        "MODEL_NAME = \"johnsnowlabs/JSL-MedLlama-3-8B-v2.0\"\n",
        "\n",
        "# check performance\n",
        "PATH_TO_RESULT = DRIVE_PATH + 'Results/'\n",
        "PATH_TO_RESULT_VAL = PATH_TO_RESULT + 'res_val.csv'"
      ],
      "metadata": {
        "id": "hPRYFcdMRfDE",
        "trusted": true,
        "execution": {
          "iopub.status.busy": "2025-04-21T01:54:25.990979Z",
          "iopub.execute_input": "2025-04-21T01:54:25.991424Z",
          "iopub.status.idle": "2025-04-21T01:54:25.995746Z",
          "shell.execute_reply.started": "2025-04-21T01:54:25.991400Z",
          "shell.execute_reply": "2025-04-21T01:54:25.994979Z"
        }
      },
      "outputs": [],
      "execution_count": null
    },
    {
      "cell_type": "markdown",
      "source": [
        "### Data analysis and processing"
      ],
      "metadata": {
        "id": "H7klfSZH7ML8"
      }
    },
    {
      "cell_type": "code",
      "source": [
        "# decrypt\n",
        "with open(PATH_TO_DATA, 'rb') as file:\n",
        "    encrypted = msoffcrypto.OfficeFile(file)\n",
        "    encrypted.load_key(password=PASSWORD)\n",
        "\n",
        "    decrypted = BytesIO()\n",
        "    encrypted.decrypt(decrypted)"
      ],
      "metadata": {
        "id": "CAs8hzm7RODT",
        "trusted": true,
        "execution": {
          "iopub.status.busy": "2025-04-21T01:54:25.998000Z",
          "iopub.execute_input": "2025-04-21T01:54:25.998189Z",
          "iopub.status.idle": "2025-04-21T01:54:26.338756Z",
          "shell.execute_reply.started": "2025-04-21T01:54:25.998175Z",
          "shell.execute_reply": "2025-04-21T01:54:26.338131Z"
        }
      },
      "outputs": [],
      "execution_count": null
    },
    {
      "cell_type": "code",
      "source": [
        "# to pandas DataFrame\n",
        "df_harmonized = pd.read_excel(decrypted, sheet_name=SHEETS[0])\n",
        "df_separate = pd.read_excel(decrypted, sheet_name=SHEETS[1])\n",
        "# uncomment below to read directly from csv files\n",
        "# df_harmonized = pd.read_csv(PATH_TO_DATA_HARMONIZED)\n",
        "# df_separate = pd.read_csv(PATH_TO_DATA_SEPARATE)"
      ],
      "metadata": {
        "id": "kUf8TPzsSFma",
        "trusted": true,
        "execution": {
          "iopub.status.busy": "2025-04-21T01:54:26.339485Z",
          "iopub.execute_input": "2025-04-21T01:54:26.339775Z",
          "iopub.status.idle": "2025-04-21T01:54:26.410894Z",
          "shell.execute_reply.started": "2025-04-21T01:54:26.339747Z",
          "shell.execute_reply": "2025-04-21T01:54:26.410320Z"
        }
      },
      "outputs": [],
      "execution_count": null
    },
    {
      "cell_type": "markdown",
      "source": [
        "##### Check NaN values"
      ],
      "metadata": {
        "id": "yo9gCwPAZEJR"
      }
    },
    {
      "cell_type": "code",
      "source": [
        "# firstly, check NaN values\n",
        "df_harmonized.isna().sum(), df_separate.isna().sum()\n",
        "## first row in df_separate is NaN (same for df_harmonized, it's not NaN, but meaningless)\n",
        "## but the last column has 3 other NaN rows"
      ],
      "metadata": {
        "colab": {
          "base_uri": "https://localhost:8080/"
        },
        "id": "xcTNyZqdVKyW",
        "outputId": "2b7f1e66-8db3-41a1-fdce-1ee61ccfa344",
        "trusted": true,
        "execution": {
          "iopub.status.busy": "2025-04-21T01:54:26.411574Z",
          "iopub.execute_input": "2025-04-21T01:54:26.411784Z",
          "iopub.status.idle": "2025-04-21T01:54:26.419192Z",
          "shell.execute_reply.started": "2025-04-21T01:54:26.411769Z",
          "shell.execute_reply": "2025-04-21T01:54:26.418480Z"
        }
      },
      "outputs": [
        {
          "output_type": "execute_result",
          "data": {
            "text/plain": [
              "(String            0\n",
              " False Positive    0\n",
              " dtype: int64,\n",
              " String                         1\n",
              " False Positive stroke          1\n",
              " False positive diabetes        1\n",
              " False positive Cancer          1\n",
              " False positive heart attack    4\n",
              " dtype: int64)"
            ]
          },
          "metadata": {},
          "execution_count": 11
        }
      ],
      "execution_count": null
    },
    {
      "cell_type": "code",
      "source": [
        "# let's find these rows and compare to df_harmonized value\n",
        "df_harmonized.loc[df_separate[df_separate['False positive heart attack'].isna()].index, :]\n",
        "## the values are all 0, then it's safe to fill NaN with 0"
      ],
      "metadata": {
        "colab": {
          "base_uri": "https://localhost:8080/",
          "height": 174
        },
        "id": "hlDiIoPgYj4C",
        "outputId": "d438d689-1711-47c5-b6aa-ebb2b84694d3",
        "trusted": true,
        "execution": {
          "iopub.status.busy": "2025-04-21T01:54:26.419923Z",
          "iopub.execute_input": "2025-04-21T01:54:26.420129Z",
          "iopub.status.idle": "2025-04-21T01:54:26.455055Z",
          "shell.execute_reply.started": "2025-04-21T01:54:26.420114Z",
          "shell.execute_reply": "2025-04-21T01:54:26.454297Z"
        }
      },
      "outputs": [
        {
          "output_type": "execute_result",
          "data": {
            "text/plain": [
              "                                                String  False Positive\n",
              "0                                        Note_Original               0\n",
              "333  Reason for referral:  Pericardial fluid.  Pres...               0\n",
              "419  S:     \\n\\nFew concerns:\\n\\n1) Needs document ...               0\n",
              "774  S:     \\n\\nPlesant 27yo female walk-in patient...               0"
            ],
            "text/html": [
              "\n",
              "  <div id=\"df-84d88973-d5ff-4c9a-8243-73c2e01c5c1c\" class=\"colab-df-container\">\n",
              "    <div>\n",
              "<style scoped>\n",
              "    .dataframe tbody tr th:only-of-type {\n",
              "        vertical-align: middle;\n",
              "    }\n",
              "\n",
              "    .dataframe tbody tr th {\n",
              "        vertical-align: top;\n",
              "    }\n",
              "\n",
              "    .dataframe thead th {\n",
              "        text-align: right;\n",
              "    }\n",
              "</style>\n",
              "<table border=\"1\" class=\"dataframe\">\n",
              "  <thead>\n",
              "    <tr style=\"text-align: right;\">\n",
              "      <th></th>\n",
              "      <th>String</th>\n",
              "      <th>False Positive</th>\n",
              "    </tr>\n",
              "  </thead>\n",
              "  <tbody>\n",
              "    <tr>\n",
              "      <th>0</th>\n",
              "      <td>Note_Original</td>\n",
              "      <td>0</td>\n",
              "    </tr>\n",
              "    <tr>\n",
              "      <th>333</th>\n",
              "      <td>Reason for referral:  Pericardial fluid.  Pres...</td>\n",
              "      <td>0</td>\n",
              "    </tr>\n",
              "    <tr>\n",
              "      <th>419</th>\n",
              "      <td>S:     \\n\\nFew concerns:\\n\\n1) Needs document ...</td>\n",
              "      <td>0</td>\n",
              "    </tr>\n",
              "    <tr>\n",
              "      <th>774</th>\n",
              "      <td>S:     \\n\\nPlesant 27yo female walk-in patient...</td>\n",
              "      <td>0</td>\n",
              "    </tr>\n",
              "  </tbody>\n",
              "</table>\n",
              "</div>\n",
              "    <div class=\"colab-df-buttons\">\n",
              "\n",
              "  <div class=\"colab-df-container\">\n",
              "    <button class=\"colab-df-convert\" onclick=\"convertToInteractive('df-84d88973-d5ff-4c9a-8243-73c2e01c5c1c')\"\n",
              "            title=\"Convert this dataframe to an interactive table.\"\n",
              "            style=\"display:none;\">\n",
              "\n",
              "  <svg xmlns=\"http://www.w3.org/2000/svg\" height=\"24px\" viewBox=\"0 -960 960 960\">\n",
              "    <path d=\"M120-120v-720h720v720H120Zm60-500h600v-160H180v160Zm220 220h160v-160H400v160Zm0 220h160v-160H400v160ZM180-400h160v-160H180v160Zm440 0h160v-160H620v160ZM180-180h160v-160H180v160Zm440 0h160v-160H620v160Z\"/>\n",
              "  </svg>\n",
              "    </button>\n",
              "\n",
              "  <style>\n",
              "    .colab-df-container {\n",
              "      display:flex;\n",
              "      gap: 12px;\n",
              "    }\n",
              "\n",
              "    .colab-df-convert {\n",
              "      background-color: #E8F0FE;\n",
              "      border: none;\n",
              "      border-radius: 50%;\n",
              "      cursor: pointer;\n",
              "      display: none;\n",
              "      fill: #1967D2;\n",
              "      height: 32px;\n",
              "      padding: 0 0 0 0;\n",
              "      width: 32px;\n",
              "    }\n",
              "\n",
              "    .colab-df-convert:hover {\n",
              "      background-color: #E2EBFA;\n",
              "      box-shadow: 0px 1px 2px rgba(60, 64, 67, 0.3), 0px 1px 3px 1px rgba(60, 64, 67, 0.15);\n",
              "      fill: #174EA6;\n",
              "    }\n",
              "\n",
              "    .colab-df-buttons div {\n",
              "      margin-bottom: 4px;\n",
              "    }\n",
              "\n",
              "    [theme=dark] .colab-df-convert {\n",
              "      background-color: #3B4455;\n",
              "      fill: #D2E3FC;\n",
              "    }\n",
              "\n",
              "    [theme=dark] .colab-df-convert:hover {\n",
              "      background-color: #434B5C;\n",
              "      box-shadow: 0px 1px 3px 1px rgba(0, 0, 0, 0.15);\n",
              "      filter: drop-shadow(0px 1px 2px rgba(0, 0, 0, 0.3));\n",
              "      fill: #FFFFFF;\n",
              "    }\n",
              "  </style>\n",
              "\n",
              "    <script>\n",
              "      const buttonEl =\n",
              "        document.querySelector('#df-84d88973-d5ff-4c9a-8243-73c2e01c5c1c button.colab-df-convert');\n",
              "      buttonEl.style.display =\n",
              "        google.colab.kernel.accessAllowed ? 'block' : 'none';\n",
              "\n",
              "      async function convertToInteractive(key) {\n",
              "        const element = document.querySelector('#df-84d88973-d5ff-4c9a-8243-73c2e01c5c1c');\n",
              "        const dataTable =\n",
              "          await google.colab.kernel.invokeFunction('convertToInteractive',\n",
              "                                                    [key], {});\n",
              "        if (!dataTable) return;\n",
              "\n",
              "        const docLinkHtml = 'Like what you see? Visit the ' +\n",
              "          '<a target=\"_blank\" href=https://colab.research.google.com/notebooks/data_table.ipynb>data table notebook</a>'\n",
              "          + ' to learn more about interactive tables.';\n",
              "        element.innerHTML = '';\n",
              "        dataTable['output_type'] = 'display_data';\n",
              "        await google.colab.output.renderOutput(dataTable, element);\n",
              "        const docLink = document.createElement('div');\n",
              "        docLink.innerHTML = docLinkHtml;\n",
              "        element.appendChild(docLink);\n",
              "      }\n",
              "    </script>\n",
              "  </div>\n",
              "\n",
              "\n",
              "<div id=\"df-110d74ee-8f77-4215-b022-0f9cafd935f2\">\n",
              "  <button class=\"colab-df-quickchart\" onclick=\"quickchart('df-110d74ee-8f77-4215-b022-0f9cafd935f2')\"\n",
              "            title=\"Suggest charts\"\n",
              "            style=\"display:none;\">\n",
              "\n",
              "<svg xmlns=\"http://www.w3.org/2000/svg\" height=\"24px\"viewBox=\"0 0 24 24\"\n",
              "     width=\"24px\">\n",
              "    <g>\n",
              "        <path d=\"M19 3H5c-1.1 0-2 .9-2 2v14c0 1.1.9 2 2 2h14c1.1 0 2-.9 2-2V5c0-1.1-.9-2-2-2zM9 17H7v-7h2v7zm4 0h-2V7h2v10zm4 0h-2v-4h2v4z\"/>\n",
              "    </g>\n",
              "</svg>\n",
              "  </button>\n",
              "\n",
              "<style>\n",
              "  .colab-df-quickchart {\n",
              "      --bg-color: #E8F0FE;\n",
              "      --fill-color: #1967D2;\n",
              "      --hover-bg-color: #E2EBFA;\n",
              "      --hover-fill-color: #174EA6;\n",
              "      --disabled-fill-color: #AAA;\n",
              "      --disabled-bg-color: #DDD;\n",
              "  }\n",
              "\n",
              "  [theme=dark] .colab-df-quickchart {\n",
              "      --bg-color: #3B4455;\n",
              "      --fill-color: #D2E3FC;\n",
              "      --hover-bg-color: #434B5C;\n",
              "      --hover-fill-color: #FFFFFF;\n",
              "      --disabled-bg-color: #3B4455;\n",
              "      --disabled-fill-color: #666;\n",
              "  }\n",
              "\n",
              "  .colab-df-quickchart {\n",
              "    background-color: var(--bg-color);\n",
              "    border: none;\n",
              "    border-radius: 50%;\n",
              "    cursor: pointer;\n",
              "    display: none;\n",
              "    fill: var(--fill-color);\n",
              "    height: 32px;\n",
              "    padding: 0;\n",
              "    width: 32px;\n",
              "  }\n",
              "\n",
              "  .colab-df-quickchart:hover {\n",
              "    background-color: var(--hover-bg-color);\n",
              "    box-shadow: 0 1px 2px rgba(60, 64, 67, 0.3), 0 1px 3px 1px rgba(60, 64, 67, 0.15);\n",
              "    fill: var(--button-hover-fill-color);\n",
              "  }\n",
              "\n",
              "  .colab-df-quickchart-complete:disabled,\n",
              "  .colab-df-quickchart-complete:disabled:hover {\n",
              "    background-color: var(--disabled-bg-color);\n",
              "    fill: var(--disabled-fill-color);\n",
              "    box-shadow: none;\n",
              "  }\n",
              "\n",
              "  .colab-df-spinner {\n",
              "    border: 2px solid var(--fill-color);\n",
              "    border-color: transparent;\n",
              "    border-bottom-color: var(--fill-color);\n",
              "    animation:\n",
              "      spin 1s steps(1) infinite;\n",
              "  }\n",
              "\n",
              "  @keyframes spin {\n",
              "    0% {\n",
              "      border-color: transparent;\n",
              "      border-bottom-color: var(--fill-color);\n",
              "      border-left-color: var(--fill-color);\n",
              "    }\n",
              "    20% {\n",
              "      border-color: transparent;\n",
              "      border-left-color: var(--fill-color);\n",
              "      border-top-color: var(--fill-color);\n",
              "    }\n",
              "    30% {\n",
              "      border-color: transparent;\n",
              "      border-left-color: var(--fill-color);\n",
              "      border-top-color: var(--fill-color);\n",
              "      border-right-color: var(--fill-color);\n",
              "    }\n",
              "    40% {\n",
              "      border-color: transparent;\n",
              "      border-right-color: var(--fill-color);\n",
              "      border-top-color: var(--fill-color);\n",
              "    }\n",
              "    60% {\n",
              "      border-color: transparent;\n",
              "      border-right-color: var(--fill-color);\n",
              "    }\n",
              "    80% {\n",
              "      border-color: transparent;\n",
              "      border-right-color: var(--fill-color);\n",
              "      border-bottom-color: var(--fill-color);\n",
              "    }\n",
              "    90% {\n",
              "      border-color: transparent;\n",
              "      border-bottom-color: var(--fill-color);\n",
              "    }\n",
              "  }\n",
              "</style>\n",
              "\n",
              "  <script>\n",
              "    async function quickchart(key) {\n",
              "      const quickchartButtonEl =\n",
              "        document.querySelector('#' + key + ' button');\n",
              "      quickchartButtonEl.disabled = true;  // To prevent multiple clicks.\n",
              "      quickchartButtonEl.classList.add('colab-df-spinner');\n",
              "      try {\n",
              "        const charts = await google.colab.kernel.invokeFunction(\n",
              "            'suggestCharts', [key], {});\n",
              "      } catch (error) {\n",
              "        console.error('Error during call to suggestCharts:', error);\n",
              "      }\n",
              "      quickchartButtonEl.classList.remove('colab-df-spinner');\n",
              "      quickchartButtonEl.classList.add('colab-df-quickchart-complete');\n",
              "    }\n",
              "    (() => {\n",
              "      let quickchartButtonEl =\n",
              "        document.querySelector('#df-110d74ee-8f77-4215-b022-0f9cafd935f2 button');\n",
              "      quickchartButtonEl.style.display =\n",
              "        google.colab.kernel.accessAllowed ? 'block' : 'none';\n",
              "    })();\n",
              "  </script>\n",
              "</div>\n",
              "\n",
              "    </div>\n",
              "  </div>\n"
            ],
            "application/vnd.google.colaboratory.intrinsic+json": {
              "type": "dataframe",
              "summary": "{\n  \"name\": \"## the values are all 0, then it's safe to fill NaN with 0\",\n  \"rows\": 4,\n  \"fields\": [\n    {\n      \"column\": \"String\",\n      \"properties\": {\n        \"dtype\": \"string\",\n        \"num_unique_values\": 4,\n        \"samples\": [\n          \"Reason for referral:  Pericardial fluid.  Presented on May 10 with uncontrolled HTN (had been well controlled), severe SOB.  CXR revealed \\\"focal infiltrate\\\" and patient improved quite quickly with Azithromycin.  Recent ECHO now also showing trace to small pericardial effusion.  \\n\\nPatient still having occasional SOB, particularly with exertion.  Would appreiciate your opinion.\\n\\nPast Medical History:\\t Diabetes\\nHTN\\nPneumonia\\n\\nActive Medications:\\t Azithromycin 250 mg Oral Tablet, Diltiazem HCL 120 mg Oral Capsule, Ext Release 24 Hr, Furosemide 20 mg Oral Tablet, Lisinopril/Hydrochlorothiazide 20 mg-12.5 mg Oral Tablet, HYDROVAL 0.2 % CREAM, TYLENOL WITH CODEINE NO.3 TAB, Amlodipine Besylate 10 mg Oral Tablet, Pravastatin Sodium 20 mg Oral Tablet, LANTUS SOLOSTR 100 UNIT/ML PEN, BD Sterile Needles, HUMALOG KWIKPEN 100 UNIT/ML, Amlodipine Besylate 5 mg Oral Tablet, Lisinopril 20 mg Oral Tablet\\n\\n \\n\\n\\nThank you for seeing this patient.  I look forward to hearing from you.\\n\",\n          \"S:     \\n\\nPlesant 27yo female walk-in patient presents with 6th day of sore throat and what felt like an ash tray in her throat. She has been coughing for the past 2 days as well\\n\\nShe would also like to switch to me as her PCP. She states she was misguided by her previous 2 physicians and was told she has cervical cancer when she really didn't? She had an ovarian cyst and irregular periods. \\n\\n\\nO:     \\n\\nVS: T - 36.6C\\n\\nGen: NAD\\nHEENT: pharynx normal, tonsils normal, TMs normal\\nResp: CTAB/L\\nLN: no lymphadenopathy\\n\\n\\nA:       \\n\\nCough\\nCounselling - Ovarian Cysts / PAP Smears / Colposcopies / Cervical Cancer\\n\\n\\nP:     \\n\\n1) Likely viral etiology - supportive/symptomatic management + Hycodan 5ml po qhs PRN.\\n\\n2) We spoke in depth about ovarian cysts, cervical cancer, PAP smear testing, birth control pills, and I answered a slew of questions she had about these all as well.\\n\\nCounselling Time: 4:24pm - 4:53pm\\n\\n\\nActive Medications: \\tHYCODAN 1 MG/ML SYRUP\\n\\n\\n\\n\\n\",\n          \"Note_Original\"\n        ],\n        \"semantic_type\": \"\",\n        \"description\": \"\"\n      }\n    },\n    {\n      \"column\": \"False Positive\",\n      \"properties\": {\n        \"dtype\": \"number\",\n        \"std\": 0,\n        \"min\": 0,\n        \"max\": 0,\n        \"num_unique_values\": 1,\n        \"samples\": [\n          0\n        ],\n        \"semantic_type\": \"\",\n        \"description\": \"\"\n      }\n    }\n  ]\n}"
            }
          },
          "metadata": {},
          "execution_count": 12
        }
      ],
      "execution_count": null
    },
    {
      "cell_type": "code",
      "source": [
        "# prepare data\n",
        "df_harmonized = df_harmonized.drop(0, axis=0)  # the first row is meaningless\n",
        "df_harmonized['False Positive'] = df_harmonized['False Positive'].astype(int)\n",
        "df_separate = df_separate.drop(0, axis=0)  # the first row is NaN\n",
        "df_separate.columns = ALL_COLUMNS  # rename columns\n",
        "df_separate.heart_attack = df_separate.heart_attack.fillna(0.0)  # replace NaN\n",
        "df_separate[SYMPTOMS_COLS] = df_separate[SYMPTOMS_COLS].astype(int)  # from float to int\n"
      ],
      "metadata": {
        "id": "bcobjeLMUpgm",
        "trusted": true,
        "execution": {
          "iopub.status.busy": "2025-04-21T01:54:26.455741Z",
          "iopub.execute_input": "2025-04-21T01:54:26.455947Z",
          "iopub.status.idle": "2025-04-21T01:54:26.464282Z",
          "shell.execute_reply.started": "2025-04-21T01:54:26.455931Z",
          "shell.execute_reply": "2025-04-21T01:54:26.463489Z"
        }
      },
      "outputs": [],
      "execution_count": null
    },
    {
      "cell_type": "code",
      "source": [
        "df = df_separate.copy()  # rename main dataframe for the easier usage"
      ],
      "metadata": {
        "id": "wSzWA3AaZ8rU",
        "trusted": true,
        "execution": {
          "iopub.status.busy": "2025-04-21T01:54:26.465596Z",
          "iopub.execute_input": "2025-04-21T01:54:26.465897Z",
          "iopub.status.idle": "2025-04-21T01:54:26.469920Z",
          "shell.execute_reply.started": "2025-04-21T01:54:26.465880Z",
          "shell.execute_reply": "2025-04-21T01:54:26.469227Z"
        }
      },
      "outputs": [],
      "execution_count": null
    },
    {
      "cell_type": "markdown",
      "source": [
        "##### Class distribution"
      ],
      "metadata": {
        "id": "mC9FA5G4ZJRZ"
      }
    },
    {
      "cell_type": "code",
      "source": [
        "print(\"Distribution:\")\n",
        "print(SYMPTOMS_COLS)\n",
        "df_separate[SYMPTOMS_COLS].value_counts().to_dict()"
      ],
      "metadata": {
        "colab": {
          "base_uri": "https://localhost:8080/"
        },
        "id": "SsG6kRH1a7iU",
        "outputId": "1dd931d7-a1e3-44f7-f6aa-d4979c26ca99",
        "trusted": true,
        "execution": {
          "iopub.status.busy": "2025-04-21T01:54:26.472063Z",
          "iopub.execute_input": "2025-04-21T01:54:26.472249Z",
          "iopub.status.idle": "2025-04-21T01:54:26.490564Z",
          "shell.execute_reply.started": "2025-04-21T01:54:26.472223Z",
          "shell.execute_reply": "2025-04-21T01:54:26.489865Z"
        }
      },
      "outputs": [
        {
          "output_type": "stream",
          "name": "stdout",
          "text": [
            "Distribution:\n",
            "['stroke', 'diabetes', 'cancer', 'heart_attack']\n"
          ]
        },
        {
          "output_type": "execute_result",
          "data": {
            "text/plain": [
              "{(0, 0, 0, 0): 792,\n",
              " (0, 0, 1, 0): 123,\n",
              " (0, 1, 0, 0): 55,\n",
              " (1, 0, 0, 0): 12,\n",
              " (0, 0, 0, 1): 7,\n",
              " (0, 1, 1, 0): 6,\n",
              " (1, 0, 0, 1): 2,\n",
              " (1, 0, 1, 0): 1}"
            ]
          },
          "metadata": {},
          "execution_count": 15
        }
      ],
      "execution_count": null
    },
    {
      "cell_type": "code",
      "source": [
        "print(\"Distribution per symptom:\")\n",
        "for col in SYMPTOMS_COLS:\n",
        "    print(f\"  {col}:\", df_separate[col].value_counts().to_dict())"
      ],
      "metadata": {
        "colab": {
          "base_uri": "https://localhost:8080/"
        },
        "id": "nxn-q4S7Z5WI",
        "outputId": "56f75125-5a2e-4bd9-b42f-95bfebc9e1b4",
        "trusted": true,
        "execution": {
          "iopub.status.busy": "2025-04-21T01:47:56.060552Z",
          "iopub.execute_input": "2025-04-21T01:47:56.060777Z",
          "iopub.status.idle": "2025-04-21T01:47:56.074125Z",
          "shell.execute_reply.started": "2025-04-21T01:47:56.060755Z",
          "shell.execute_reply": "2025-04-21T01:47:56.073422Z"
        }
      },
      "outputs": [
        {
          "output_type": "stream",
          "name": "stdout",
          "text": [
            "Distribution per symptom:\n",
            "  stroke: {0: 983, 1: 15}\n",
            "  diabetes: {0: 937, 1: 61}\n",
            "  cancer: {0: 868, 1: 130}\n",
            "  heart_attack: {0: 989, 1: 9}\n"
          ]
        }
      ],
      "execution_count": null
    },
    {
      "cell_type": "markdown",
      "source": [
        "**Conclusion:**\n",
        "\n",
        "The dataset is highly imbalanced.\n",
        "\n",
        "I assumed that a transformers solution (like Bio_ClinicalBERT) might not generalize on minor classes well. It'd require a custom loss per label or any sort of data augmentation.\n",
        "\n",
        "That's why I sticked to an LLM solution.\n"
      ],
      "metadata": {
        "id": "MnawDj6DI6jK"
      }
    },
    {
      "cell_type": "markdown",
      "source": [
        "##### Validation data\n",
        "This code ensures that all the classes will be in the validation dataset."
      ],
      "metadata": {
        "id": "cx1b7XJeZkJi"
      }
    },
    {
      "cell_type": "code",
      "source": [
        "# create a validation dataset with controlled distribution\n",
        "def sample_select(df: pd.DataFrame, counts: dict,\n",
        "                  total: int = 150, random_state: int = 42) -> pd.DataFrame:\n",
        "    not_healthy_count = sum(counts.values())\n",
        "    healthy_count = total - not_healthy_count  # all 0 classes\n",
        "\n",
        "    dataset = []\n",
        "    for disease, n in counts.items():\n",
        "        disease_subset = df[df[disease] == 1]\n",
        "        sampled = (\n",
        "            disease_subset\n",
        "            .sample(n=n, random_state=random_state)\n",
        "            .reset_index(drop=True)\n",
        "        )\n",
        "        dataset.append(sampled)\n",
        "\n",
        "    healthy_subset = df[(df[SYMPTOMS_COLS].sum(axis=1) == 0)]\n",
        "    healthy_sampled = (\n",
        "        healthy_subset\n",
        "        .sample(n=healthy_count, random_state=random_state)\n",
        "        .reset_index(drop=True)\n",
        "    )\n",
        "    dataset.append(healthy_sampled)\n",
        "\n",
        "    result = (\n",
        "        pd.concat(dataset, axis=0)\n",
        "        .sample(frac=1, random_state=random_state)\n",
        "        .reset_index(drop=True)\n",
        "    )\n",
        "    return result"
      ],
      "metadata": {
        "id": "o4w1kvaQK6FK"
      },
      "execution_count": null,
      "outputs": []
    },
    {
      "cell_type": "code",
      "source": [
        "if not DRY_RUN:\n",
        "    val_df = sample_select(df,\n",
        "                          counts={  # preselected number of classes in val dataset\n",
        "                              'stroke': 8,\n",
        "                              'diabetes': 30,\n",
        "                              'cancer': 40,\n",
        "                              'heart_attack': 5},\n",
        "                          total=150)  # total len of val dataset\n",
        "    val_df.to_csv('val_df.csv', index=False)\n",
        "else:\n",
        "    val_df = pd.read_csv(PATH_TO_VAL_DATA)"
      ],
      "metadata": {
        "id": "Le4ctwOEMcty"
      },
      "execution_count": null,
      "outputs": []
    },
    {
      "cell_type": "markdown",
      "source": [
        "### LLM"
      ],
      "metadata": {
        "id": "Y7YimxyloY_u"
      }
    },
    {
      "cell_type": "markdown",
      "source": [
        "#### Prompt\n",
        "The prompt is created according to the problem statement and rules for identifying classes."
      ],
      "metadata": {
        "id": "mxAQRs5M-4Cs"
      }
    },
    {
      "cell_type": "code",
      "source": [
        "def create_prompt(symptom_description: str) -> str:\n",
        "    return f\"\"\"You are a medical expert AI specializing in clinical symptom assessment. Given the following medical description, your task is to evaluate it and determine the presence of symptoms related to four specific conditions.\n",
        "\n",
        "For each of the conditions below, respond with either:\n",
        "- 1 (True) — if there is clear evidence such as a diagnosis, personal/family medical history, or confirmed test results.\n",
        "- 0 (False) — if the description only mentions a recommendation for testing, medications without diagnosis, vague/uncertain language (e.g., \"possible\", \"might have\"), or early risk factors (e.g., prediabetes).\n",
        "\n",
        "Conditions to evaluate:\n",
        "1. Stroke\n",
        "2. Diabetes\n",
        "3. Cancer\n",
        "4. Heart attack\n",
        "\n",
        "Return your answer strictly in the following JSON format:\n",
        "{{\"stroke\": 0 or 1, \"diabetes\": 0 or 1, \"cancer\": 0 or 1, \"heart_attack\": 0 or 1}}\n",
        "\n",
        "Medical description:\n",
        "\\\"\\\"\\\"{symptom_description}\\\"\\\"\\\"\n",
        "\n",
        "Your JSON response:\n",
        "\"\"\"\n",
        "# Examples:\n",
        "# 1. INPUT: 'S:     \\n\\nDuration of pain: 1 week\\nLocation of pain: nape of neck\\nAggravating/Alleviating factors: bending head forward\\nPrevious imaging? none\\nPain scale: 5\\n\\nRed Flags:\\nAge >50 (especially if osteoporosis or compression factor) Yes\\nAge > 70 No\\nTrauma/Cumulative trauma No - but did carry heavy bags on one shoulder the day before this started\\nUnexplained fever or hx of urinary or other infections No\\nUnexplained weight loss No\\nImmunosuppression or Diabetes No\\nHistory of Cancer No\\nIV drug use No\\nProlonged use of corticosteroids, osteoporosis No\\nFocal neurological deficit with progressive or disabling symptoms No\\nBowel/bladder dysfunction No\\nLeg symptoms No\\nDuration longer than 6 weeks No\\nPrior surgery No\\n\\nO:     \\n\\nInspection of back & posture: normal\\nROM: FROM\\nPalpation of vertebrae:  Tender\\nPain when flexing neck and ear to shoulder bilaterally, especially around right trapezius\\n\\nA:       \\n\\nCervical Neck Strain\\n\\nP:     \\n\\nVimovo PRN. If not better in 10 days, will send for XR.\\n\\nMedication side effects were discussed in great detail\\n\\nActive Medications: \\tVIMOVO 375 MG-20 MG TABLET\\n\\n\\n\\n'; OUTPUT: {{\"stroke\": 0, \"diabetes\": 0, \"cancer\": 0, \"heart_attack\": 0}}\n",
        "# 2. INPUT: 'S:     \\n\\nPatient presents when being called in for positive colon cancer screening kit (1 out of 3 were positive for blood). He has never had a colonoscopy, and he is now 56yo. There is no history of colon cancer in the family. He does have a history of hemorrhoids. \\n\\nPatient became very emotional during the visit and confessed that he is very stressed out as of late. He states his son in the Phillipines, has been arrested for murder in self defense. He is worried about his son's wife and his grandson. He does not know what to do about the situation. He states his workplace is also planning on going on strike soon, and he is worried about the financial implications this may have. \\n\\n\\nO:     \\n\\nGen: anxious\\nPsych: no suicidal/homicidal ideation\\n\\n\\nA:       \\n\\nAnxiety\\nColon Cancer Screening - Positive\\nDM2\\n\\n\\nP:     \\n\\n1) We spoke in detail about the things he can do for himself and his son in this very difficult time. He states he is a Christian, and he is strong in his faith and knows he can get through this. I encouraged him to pray for his son and family, as well as for himself. I think this will help him tremendously. I have also asked him not to neglect his own health in this difficult time. Although I do not feel he requires medication at this time, should he have any problems with insomnia or intrusive thoughts in the near future, I encouraged him to return and share these feelings with me. He will try and relax as best as possible and figure out a way as to how he can help his son back home. \\n\\n2) Will send for colonoscopy. Explained the procedure to him in great detail. He is reluctant (because he is scared of the process and the possible outcome), but I reassured him this was a mere screening test and there is nothing for him to be worried about at the present time.\\n\\n3) I have switched his Metformin to Janumet XR. He is to take 2 tablet po qam 50/1000mg tablets). We will check his A1C at a future diabetes visit. \\n\\nCounselling Time (for Anxiety only): 11:05-11:55am\\n\\n\\nActive Medications: \\tJANUMET XR 50-1,000 MG TABLET, Lancets  Miscellaneous Each, Orthotic footwear, Custom Orthotics, Metformin HCL 500 mg Oral Tablet, Indomethacin 25 mg Oral Capsule, CRESTOR 20 MG TABLET, Metformin HCL 500 mg Oral Tablet, Telmisartan 80 mg Oral Tablet, ACCU-CHEK AVIVA T/S\\n\\n\\n\\n\\n; OUTPUT: {{\"stroke\": 0, \"diabetes\": 0, \"cancer\": 1, \"heart_attack\": 0}}\n",
        "# 3. INPUT: 'S:     \\n\\nPresents for results review. Her labs were good with the exception of prediabetes. Her A1c is at 6.1%. She has Hepatitis C and on medications. She has a long family history of DM2.\\n\\n\\nO:     \\n\\nGen: NAD\\n\\n\\nA:       \\n\\nPrediabetes\\n\\n\\nP:     \\n\\nSuggested she continue with her dietitian, and consider seeing Dr. Metabolic Weight Loss Clinic as she has in the past. She will speak to Dr., her PCP, about this.\\n\\n\\nActive Medications: \\tHYDROVAL 0.2 % CREAM, ZITHROMAX 250 MG TABLET, NORTRIPTYLINE 10 MG CAPSULE, STIEPROX 1.5 % SHAMPOO, LAMISIL 250 MG TABLET, KETODERM 2% CREAM, DICETEL 100 MG TABLET\\n\\n\\n\\n\\n'; OUTPUT: {{\"stroke\": 0, \"diabetes\": 1, \"cancer\": 0, \"heart_attack\": 0}}\n",
        "# 4. INPUT: 'S:     feeling unwell at the beginning of the week - achy, low energy, bed at 6:30 every night\\nhad improved\\ntoday woke with dizzy spells & ringing in ear \\ncan make dizzy with turning\\nprevious ringing in ear but no dizziness - had ear drops & pills - a while back (leftover ear infection)\\nhearing is fine\\ndizzy with movement of head\\n\\n\\nO:     cerebellar tests normal - finger to nose, rapid alt mvmt\\nnormal gait\\nnormal strength & reflexes bilat\\n\\n\\nA:       Labyrynthitis\\n\\n\\nP:     serc\\nrtc if no resolution\\nto ER if stroke-like sx\\n\\n\\nActive Medications: \\tNone Recorded\\n\\n\\n\\n\\n'; OUTPUT: {{\"stroke\": 1, \"diabetes\": 0, \"cancer\": 0, \"heart_attack\": 0}}\n",
        "# 5. INPUT: 'S:     \\n\\nPatient presents with severe anxiety. She is shaking and crying during the visit. She was here less than 1 week ago and given Lorazepam. She states this worked very well, but she was taking 2mg twice daily as opposed to the way it was written - 1mg twice daily. She saw her Methadone physician Dr. who tried her on Clonazepam unsuccessfully. She has NEVER tried street drugs, and is taking Methadone for endometriosis. THis has now resolved, and thus she is being weaned off the Methadone. She feels like she is having a heart attack. She fears that her children will see her like this. She did have recent dental procedures which she feels are the cause of these attacks. She was placed on Celexa but only took it for 1 months stating that she could not tolerate the side effects and that it did not work for her. \\n\\n\\nO:     \\n\\nGen: anxious, AAO x 3\\nPsych: anxious, decreased sleep, decreased concentration \\n\\n\\nA:       \\n\\nGAD\\n\\n\\nP:     \\n\\nLorazepam 1mg po BID refilled x 30 days. Referred to psychiatrist for SSRI and possible CBT.\\n\\n\\nActive Medications: \\tLorazepam 1 mg Oral Tablet, CELEXA 20 MG TABLET, AURO-CIPROFLOXACIN 500 MG TAB, MACROBID 100 MG CAPSULE\\n\\n\\n\\n\\n'; OUTPUT: {{\"stroke\": 0, \"diabetes\": 0, \"cancer\": 0, \"heart_attack\": 1}}\n",
        "# 6. INPUT: 'S:     back pain persists\\nusing tylenol arthritis & robax - help somewhat\\nbut the more she does, busy -- more pain\\nthe more she relaxes, the better it is, especially the next day\\n\\nAge >50 (especially if osteoporosis or compression factor) [Yes|No]\\nAge > 70 [Yes|No]\\nTrauma/Cumulative trauma [Yes|No]\\nUnexplained fever or hx of urinary or other infections [Yes|No ]\\nUnexplained weight loss [Yes|No] - did lose wt but did not eat well during her move\\nImmunosuppression or Diabetes [Yes|No]\\nHistory of Cancer [Yes|No]\\nIV drug use [Yes|No]\\nProlonged use of corticosteroids, osteoporosis [Yes|No] osteoporosis, previous prednisone use - shock tx in the 90's\\nFocal neurological deficit with progressive or disabling symptoms [Yes|No]\\nBowel/bladder dysfunction [Yes|No] (colitis related only)\\nLeg symptoms [Yes|No]\\nDuration longer than 6 weeks [Yes|No]\\nPrior surgery [Yes|No]\\n\\nno radicular pain, sometimes radiates to muscles\\n\\n2) also needs zopiclone\\nuses most nights - last few days just used half\\ndiscussed Insomnia workbook\\n\\nO:     no vertebral tenderness\\nmild L MSK tenderness - improved from previous\\n\\n\\nA:       Back pain - OA\\t\\n\\n\\nP:     pain clinic - ?injection (?morgan)\\n\\nzopiclone renewed\\ninsomnia work book\\n\\n\\nActive Medications: \\tSYNTHROID 112 MCG TABLET, Irbesartan/Hydrochlorothiazide 300 mg-25 mg Oral Tablet, ACTONEL DR 35 MG TABLET, Zopiclone 7.5 mg Oral Tablet\\n\\n\\n\\n\\'; OUTPUT: {{\"stroke\": 0, \"diabetes\": 1, \"cancer\": 1, \"heart_attack\": 0}}\n",
        "# 7. INPUT: 'S:     \\n\\nconcerned that she may have \"palpitation with my heart\"\\ndiscussed that she has been worked up previously, \\npt endorses that she is getting Aflibercept injections for the eye\\nhas had two already\\none of warnings is that it may cause heart attack, stroke or death\\n\\n\\nfeeling palpitations with moving/walking\\nno chest pain\\nno SOB\\nsame as previously\\n\\nno excessive caffeine - one per day\\n\\nO:     \\n\\nGen: NAD\\n131/74, 67\\nCVS - NS1S2, no ehs, regular\\n\\nA:       \\n\\nPalpitations, Anxiety\\nFlu shot\\n\\n\\nP:     \\n\\nreassured for now\\nFlu shot\\n\\n\\nActive Medications: \\tOMNARIS 50 MCG NASAL SPRAY, SYMBICORT 100 TURBUHALER, Lorazepam 2 mg Oral Tablet, LAMISIL 1% CREAM, Metoprolol Tartrate 50 mg Oral Tablet, MACROBID 100 MG CAPSULE, FUCIDIN 2 % CREAM\\n\\n\\n\\n\\n'; OUTPUT: {{\"stroke\": 1, \"diabetes\": 0, \"cancer\": 0, \"heart_attack\": 1}}\n"
      ],
      "metadata": {
        "id": "rx2shGGO3f5g",
        "trusted": true,
        "execution": {
          "iopub.status.busy": "2025-04-21T01:54:26.491455Z",
          "iopub.execute_input": "2025-04-21T01:54:26.491721Z",
          "iopub.status.idle": "2025-04-21T01:54:26.501985Z",
          "shell.execute_reply.started": "2025-04-21T01:54:26.491701Z",
          "shell.execute_reply": "2025-04-21T01:54:26.501295Z"
        }
      },
      "outputs": [],
      "execution_count": null
    },
    {
      "cell_type": "markdown",
      "source": [
        "The commented section above was meant to improve the model by providing few-shot examples.\n",
        "I removed all of them from the prompt because it was too \"heavy\". I did this to get results faster."
      ],
      "metadata": {
        "id": "h10HJlOmYSqA"
      }
    },
    {
      "cell_type": "markdown",
      "source": [
        "#### Model"
      ],
      "metadata": {
        "id": "kl6m3Sja-9ql"
      }
    },
    {
      "cell_type": "markdown",
      "source": [
        "For the model, I chose a  LLama 3 (8B) specifically fine-tuned on clinical tasks - [MedLlama](https://huggingface.co/johnsnowlabs/JSL-MedLlama-3-8B-v2.0). It shows the best performance across similar models.\n",
        "\n",
        "I quantised it to decrease output generation time by 2-3x."
      ],
      "metadata": {
        "id": "1l_PadHGZZHJ"
      }
    },
    {
      "cell_type": "code",
      "source": [
        "if not DRY_RUN:\n",
        "    tokenizer = AutoTokenizer.from_pretrained(MODEL_NAME, use_fast=True)\n",
        "    model = AutoModelForCausalLM.from_pretrained(\n",
        "        MODEL_NAME,\n",
        "        device_map=\"auto\",\n",
        "        torch_dtype=torch.float16,\n",
        "        load_in_8bit = True  # quantise for faster access\n",
        "    )\n",
        "    model.eval()"
      ],
      "metadata": {
        "id": "IlzGqV1S3NC9",
        "trusted": true,
        "execution": {
          "iopub.status.busy": "2025-04-21T01:54:26.502511Z",
          "iopub.execute_input": "2025-04-21T01:54:26.502735Z",
          "execution_failed": "2025-04-21T01:55:14.368Z"
        },
        "collapsed": true
      },
      "outputs": [],
      "execution_count": null
    },
    {
      "cell_type": "markdown",
      "source": [
        "#### Prediction"
      ],
      "metadata": {
        "id": "00DWVS4y7W2n"
      }
    },
    {
      "cell_type": "code",
      "source": [
        "# run prompt\n",
        "def evaluate_symptom(symptom_description: str) -> dict:\n",
        "    prompt = create_prompt(symptom_description)\n",
        "\n",
        "    inputs = tokenizer(prompt, return_tensors=\"pt\")\n",
        "    inputs = {k: v.to(model.device) for k,v in inputs.items()}\n",
        "\n",
        "    with torch.no_grad():\n",
        "        output_ids = model.generate(\n",
        "            **inputs,\n",
        "            max_new_tokens=100,\n",
        "            do_sample=False,\n",
        "            pad_token_id=tokenizer.eos_token_id\n",
        "        )\n",
        "\n",
        "    gen_ids = output_ids[0][inputs[\"input_ids\"].shape[-1]:]\n",
        "    output_text = tokenizer.decode(gen_ids, skip_special_tokens=True)\n",
        "\n",
        "    match = re.search(r\"\\{[^{}]+\\}\", output_text)\n",
        "    if match:\n",
        "        try:\n",
        "            return json.loads(match.group())\n",
        "        except Exception:\n",
        "            return None\n",
        "    return None\n",
        "\n",
        "# iterate over the dataset\n",
        "def compare_predictions(df: pd.DataFrame,\n",
        "                        index_from: int = 0, index_to: int = 500) -> pd.DataFrame:\n",
        "    y_pred = []\n",
        "    # drop few-shot examples index: [60, 149, 307, 315, 379, 402, 764, 878]\n",
        "    test_df = df.copy().reset_index(drop=True)\n",
        "    notes = test_df['note'].tolist()\n",
        "    index_to = min(index_to, len(test_df))\n",
        "    for i in range(index_from, index_to):\n",
        "        print(i)\n",
        "        preds = evaluate_symptom(notes[i])\n",
        "\n",
        "        if preds:\n",
        "            res = [\n",
        "                preds.get('stroke', 0),\n",
        "                preds.get('diabetes', 0),\n",
        "                preds.get('cancer', 0),\n",
        "                preds.get('heart_attack', 0)\n",
        "            ]\n",
        "        else:\n",
        "            res = [0, 0, 0, 0]\n",
        "        y_pred.append(res)\n",
        "\n",
        "    y_pred_df = pd.DataFrame(y_pred, columns=['stroke_pred', 'diabetes_pred', 'cancer_pred', 'heart_attack_pred'])\n",
        "    result_df = test_df.iloc[index_from:index_to].reset_index(drop=True)\n",
        "    return pd.concat([result_df, y_pred_df], axis=1)\n"
      ],
      "metadata": {
        "id": "g1BFwP7j3OuG",
        "trusted": true,
        "execution": {
          "execution_failed": "2025-04-21T01:55:14.369Z"
        }
      },
      "outputs": [],
      "execution_count": null
    },
    {
      "cell_type": "code",
      "source": [
        "# predict the validation dataset\n",
        "if not DRY_RUN:\n",
        "    res_val = compare_predictions(val_df)"
      ],
      "metadata": {
        "id": "Zajn36sJ7-u_"
      },
      "outputs": [],
      "execution_count": null
    },
    {
      "cell_type": "code",
      "source": [
        "# predict the complete dataset\n",
        "# batch: 200-300, to avoid colab time limits\n",
        "if not DRY_RUN:\n",
        "    INDEX_FROM = 500\n",
        "    INDEX_TO = 800\n",
        "    result_df = compare_predictions(df, index_from=INDEX_FROM, index_to=INDEX_TO)\n",
        "    result_df.to_csv(f'res_{INDEX_FROM}_{INDEX_TO}.csv', index=False)"
      ],
      "metadata": {
        "id": "CBt98K4S7KAr",
        "trusted": true,
        "execution": {
          "execution_failed": "2025-04-21T01:55:14.370Z"
        }
      },
      "outputs": [],
      "execution_count": null
    },
    {
      "cell_type": "markdown",
      "source": [
        "#### Validation\n",
        "I focused more on recall and F_beta scores, as the key is to avoid FN since missing a symptom can have serious consequences."
      ],
      "metadata": {
        "id": "3jGmc0JqJW97"
      }
    },
    {
      "cell_type": "code",
      "source": [
        "def show_metrics(df: pd.DataFrame):\n",
        "    eval_class = SYMPTOMS_COLS if SYMPTOMS_COLS[0] in df.columns else ['harmonized']\n",
        "    for symptom in eval_class:\n",
        "        y_true = df[symptom]\n",
        "        y_pred = df[f'{symptom}_pred']\n",
        "\n",
        "        tn, fp, fn, tp = confusion_matrix(y_true, y_pred).ravel()\n",
        "        precision = precision_score(y_true, y_pred)\n",
        "        recall = recall_score(y_true, y_pred)\n",
        "        f1 = f1_score(y_true, y_pred)\n",
        "        f2 = fbeta_score(y_true, y_pred, beta=2)  # more weight on recall\n",
        "\n",
        "        print(f'=== {symptom.title()} ===')\n",
        "        print(f'  TP: {tp},  FP: {fp},  FN: {fn},  TN: {tn}')\n",
        "        print(f'  Precision: {precision:.2f}')\n",
        "        print(f'  Recall (Sensitivity): {recall:.2f}')\n",
        "        print(f'  F1 Score: {f1:.2f}')\n",
        "        print(f'  F2 Score: {f2:.2f}')\n",
        "        print()"
      ],
      "metadata": {
        "id": "AzioT-NtKmfu"
      },
      "execution_count": null,
      "outputs": []
    },
    {
      "cell_type": "code",
      "source": [
        "if DRY_RUN:\n",
        "    res_val = pd.read_csv(PATH_TO_RESULT_VAL)\n",
        "else:\n",
        "    # check metrics over the complete dataset\n",
        "    res_df_1 = pd.read_csv(PATH_TO_RESULT + 'res_0_200.csv', index_col=False).dropna(axis=0)\n",
        "    res_df_2 = pd.read_csv(PATH_TO_RESULT + 'res_200_500.csv')\n",
        "    res_val = pd.concat([res_df_1, res_df_2], axis=0).drop('Unnamed: 0', axis=1)\n",
        "    res_val.iloc[:, 1:] = res_val.iloc[:, 1:].astype(int)"
      ],
      "metadata": {
        "id": "hjHChYQYOSW3"
      },
      "execution_count": null,
      "outputs": []
    },
    {
      "cell_type": "code",
      "source": [
        "show_metrics(res_val)"
      ],
      "metadata": {
        "colab": {
          "base_uri": "https://localhost:8080/"
        },
        "id": "X9HExn9oKmcN",
        "outputId": "806db8d6-a2db-46a5-fa06-78bae3f1884b"
      },
      "execution_count": null,
      "outputs": [
        {
          "output_type": "stream",
          "name": "stdout",
          "text": [
            "=== Stroke ===\n",
            "  TP: 4,  FP: 4,  FN: 6,  TN: 136\n",
            "  Precision: 0.50\n",
            "  Recall (Sensitivity): 0.40\n",
            "  F1 Score: 0.44\n",
            "  F2 Score: 0.42\n",
            "\n",
            "=== Diabetes ===\n",
            "  TP: 27,  FP: 30,  FN: 4,  TN: 89\n",
            "  Precision: 0.47\n",
            "  Recall (Sensitivity): 0.87\n",
            "  F1 Score: 0.61\n",
            "  F2 Score: 0.75\n",
            "\n",
            "=== Cancer ===\n",
            "  TP: 24,  FP: 16,  FN: 19,  TN: 91\n",
            "  Precision: 0.60\n",
            "  Recall (Sensitivity): 0.56\n",
            "  F1 Score: 0.58\n",
            "  F2 Score: 0.57\n",
            "\n",
            "=== Heart_Attack ===\n",
            "  TP: 3,  FP: 5,  FN: 3,  TN: 139\n",
            "  Precision: 0.38\n",
            "  Recall (Sensitivity): 0.50\n",
            "  F1 Score: 0.43\n",
            "  F2 Score: 0.47\n",
            "\n"
          ]
        }
      ]
    },
    {
      "cell_type": "markdown",
      "source": [
        "### Results analysis\n",
        "Metrics don't look good enough.\n",
        "\n",
        "However, I typically start by investigating potential issues on the data side. It's possible that the model performed well, but incorrect labels may have negatively impacted its scores."
      ],
      "metadata": {
        "id": "0nyUPn53P635"
      }
    },
    {
      "cell_type": "code",
      "source": [
        "# return notes, true and predicted labels for each missed match\n",
        "def get_mismatched(\n",
        "    df: pd.DataFrame,\n",
        "    disease: str,\n",
        "    metric: str = 'fn'\n",
        ") -> pd.DataFrame:\n",
        "    true_col = disease\n",
        "    pred_col = f\"{disease}_pred\"\n",
        "    if metric.lower() == 'fn':\n",
        "        mask = (df[true_col] == 1) & (df[pred_col] == 0)\n",
        "    elif metric.lower() == 'fp':\n",
        "        mask = (df[true_col] == 0) & (df[pred_col] == 1)\n",
        "    else:\n",
        "        return 'Select either FN or FP metrics.'\n",
        "    return df.loc[mask].reset_index(drop=True)\n"
      ],
      "metadata": {
        "id": "1RtHCEZgZYma"
      },
      "execution_count": null,
      "outputs": []
    },
    {
      "cell_type": "code",
      "source": [
        "get_mismatched(res_val, 'cancer').values[:5]"
      ],
      "metadata": {
        "colab": {
          "base_uri": "https://localhost:8080/"
        },
        "id": "Vz5HhkVqpXpM",
        "outputId": "1db4cab9-0547-4ada-9999-62857176208d"
      },
      "execution_count": null,
      "outputs": [
        {
          "output_type": "execute_result",
          "data": {
            "text/plain": [
              "array([[\"S:     \\n\\nPresents with request to become a new patient of mine. 3 months ago moved to this area with his wife - seeking family physician. \\n\\nPMHx: none\\n\\nPSurgHx: none\\n\\nDaily Medications: none\\n\\nAllergies: NKDA\\n\\nFamilyHx: nothing pertinent \\n\\nSocialHx: Married, 1 Child, Non-Smoker, Drinks Socially and Self-employed - oversee the operation of importing company (retail)\\n\\nROS: negative\\n\\nO:     \\n\\nGen: NAD\\nHEENT: NC/AT, PERRLA, EOMI, no throat issues\\nCVS: S1/S2+, RRR, no murmur\\nResp: CTAB/L\\nLN: no lymphadenopathy\\n\\nA:       \\n\\nMeet and Greet\\nImmunization Review\\nRoutine Labs\\nColon Cancer Screening Test\\n\\nP:     \\n\\n1) I will be happy to accept him into my rostered practice. I will need a copy of their past medical records from any previous PCP's or specialists they may have had.  \\n\\n2) Immunizations were reviewed and Tdap given today, rx for Shingrix and Prevnar 13.  \\n\\n3) Routine labs were sent for today.\\n\\n4) FOBT sent for. \\n\\n\\nActive Medications: \\tNone Recorded\\n\\n\\n\\n\\n\",\n",
              "        0, 0, 1, 0, 0, 0, 0, 0],\n",
              "       ['S:     \\n\\nPleasant 50yo middle eastern female walk-in patient presents with request I become her new family physician. She states she has a history of HLD and possible nasal polyposis, but is otherwise relatively healthy. She admits to being overweight. Her last PCP was Dr. She has an ENT - Dr.  - who she will be seeing today to f/u on a sinus CT for possible polyposis. She has a family history of DM2/HTN/HLD in mother, and a healthy father. She has 3 children. She does not know if she is UTD with her Tdap, but states her flu shot was taken this past year. \\n\\n\\nO:     \\n\\nVS: BP - 167/106  P - 80  (states at home it is usually 120/80)\\n\\nGen: NAD\\nCVS: S1/S2+, RRR, no murmur\\nResp: CTAB/L\\n\\n\\nA:       \\n\\nMeet and Greet /  Routine Labs\\nFOBT (Colon Cancer Screening)\\nHyperlipidemia\\nImmunizations\\n\\n\\nP:     \\n\\n1) Asked to have her files sent from previous PCP. Routine labs and EKG will be sent for - must be done fasting\\n\\n2) CCC kit given to patient. Procedure explained. No family history of colon cancer.\\n\\n3) Crestor 10mg po QHS refilled x 3 months.\\n\\n4) Flu shot already given this season. Tdap still uncertain - will find out from previous PCP.\\n\\nWe will speak about mammogram, pap smear, and shingles vaccine upon return visit. \\n\\n\\nActive Medications: \\tCRESTOR 10 MG TABLET\\n\\n\\n\\n\\n',\n",
              "        0, 0, 1, 0, 0, 0, 0, 0],\n",
              "       [\"S:     \\n\\nPresents with request to become a new patient of mine.\\n\\nPMHx: Dyslipidemia, Hypertension, Fibromyalgia, Uterine Polyp  \\n\\nPSurgHx: Appendectomy at 20yo, Tubes tied (1985), Uterine Polyp biopsy (2008) \\n\\nDaily Medications: Lipitor 10mg, Irbesartan ?mg OD, Calcium and Vitamin D \\n\\nAllergies: NKDA\\n\\nFamilyHx: Father - DM2 (died of complications); Sister - DM2   \\n\\nSocialHx: Married, 2 Children, Non-Smoker, Doesn't Drink and Retired trainer at Sunlife Financial \\n\\nROS: negative\\n\\nO:     \\n\\nGen: NAD\\nHEENT: NC/AT, PERRLA, EOMI, no throat issues\\nCVS: S1/S2+, RRR, no murmur\\nResp: CTAB/L\\nLN: no lymphadenopathy\\n\\nA:       \\n\\nMeet and Greet\\nImmunization Review\\nRoutine Labs\\nColon Cancer Screening\\nMammogram\\nPAP Smear\\nBMD Scan \\n\\nP:     \\n\\n1) I will be happy to accept her into my rostered practice. I will need a copy of their past medical records from any previous PCP's or specialists they may have had.  \\n\\n2) Immunizations were reviewed and given Flu shot today. Doesn't have Tdap in the past 10 years and never received a pneumonia shot. Shingles vaccine already taken. \\n\\n3) Routine labs were sent for today.\\n\\n4) Done in the past 2 years.\\n\\n5) Done in the past 2 years. \\n\\n6) Done in the past 3 years. \\n\\n7) Already done last year. Normal. \\n\\n\\nActive Medications: \\tNone Recorded\\n\\n\\n\\n\\n\",\n",
              "        0, 0, 1, 0, 0, 1, 0, 0],\n",
              "       [\"Complaints/Health Concerns: physical exam\\n\\nPrevious Medical History: MS for 19 years, ED due to MS, Depression, Migraine Headaches (Followed by Dr for MS - Queen St.) \\n\\nPrevious Surgical History: none\\n \\nCurrent Medications: Tecfidera, Fampyra, Flomax\\n\\nAllergies: NKDA\\n\\nSocial History: married - 2 children with 1st wife\\t\\nSmoking: none\\nETOH: once or twice a month \\nOccupation: unemployed on disability, previously in the swimming pool business \\nRecreation: get together with friends and family\\nDiet: good now (was previously 242lb) \\nExercise: 3x a week\\nFamily History: Sister - died of MS (fulminating MS); Mother - MS\\n\\nSystemic Inquiry: \\nGeneral: WNL\\nCardiorespiratory: WNL\\nGastrointestinal: WNL\\nGenitourinary: ED, can't urinate as well (bladder doesn't work as well due to MS)\\nNeurological: MS\\nMetabolic/Endocrine: WNL\\nMusculoskeletal: MS\\nComplimentary Medicine: WNL\\nCultural Health Practices: WNL\\n\\nPHYSICAL EXAM \\n\\nVS: BP - 1284/83  P - 78  Wt - 88kg  Ht - 176cm\\n\\nGeneral Appearance:\\nSkin: normal\\t\\nENT: normal\\nEyes: normal - has corrective lenses for reading\\nNeck: normal\\nCVS: normal\\nChest: normal\\nAbdomen: normal\\nMSS: abnormal gait, can't balance on leg \\nCNS: abnormal\\nExtremities: normal\\n\\nAssessment:\\n\\nPhysical Exam\\nColon Cancer Screening \\nImmunizations\\nRoutine Labs and EKG \\nMigraine Headaches - Med Refill\\n\\n\\nPlan:\\n\\n1) Has MS - otherwise normal exam. We spoke about his condition and medications. He will provide me with a list from the pharmacy as well.\\n2) Colonoscopy will be scheduled.\\n3) Flu shot done this year, Tetanus shot completed in the past 6 years, can't take a live vaccine (shingles), Pneumonia shot given already. \\n4) Routine Labs + EKG as well as labs for MS on behalf of specialist. \\n5) Rizatriptan ODT 10mg tablets. \\n\\n\",\n",
              "        0, 0, 1, 0, 0, 0, 0, 0],\n",
              "       ['S:     Duration of pain: sinceSaturday, couldn\\'t move x 3 days\\nslipped on water but did not fall, just turned -- by the end of the day ++ pain\\nnext day could not stand up\\nLocation of pain: lower back\\nAggravating/Alleviating factors:\\nPrevious imaging?\\nsaw chiropractor, concerned 2 vertebrae moved - initially couldn\\'t even straighten out\\n\"so severe\" never had anything like this\\nhas not been able to work for the last week - may have to apply to short term disability\\n++ difficulty sitting\\nadvil not helping much, diclofenac cream\\nslow improvement - was able to come in today\\n\\nRed Flags:\\nAge >50 (especially if osteoporosis or compression factor) [Yes|No]\\nAge > 70 [Yes|No]\\nTrauma/Cumulative trauma [Yes|No]\\nUnexplained fever or hx of urinary or other infections [Yes|No]\\nUnexplained weight loss [Yes|No]\\nImmunosuppression or Diabetes [Yes|No]\\nHistory of Cancer [Yes|No]\\nIV drug use [Yes|No]\\nProlonged use of corticosteroids, osteoporosis [Yes|No]\\nFocal neurological deficit with progressive or disabling symptoms [Yes|No]\\nBowel/bladder dysfunction [Yes|No]\\nLeg symptoms [Yes|No] - but into buttock\\nDuration longer than 6 weeks [Yes|No]\\nPrior surgery [Yes|No]\\n\\n2) review u/s and bw\\nthyroid stable\\n\\n3) axert for migraines\\n\\nO:     \\nInspection of back & posture: + guarding\\nROM: decreased flexion (very nervous too!)\\nPalpation of vertebrae:  [Tender|Non-Tender]\\nprimarily L side pain above buttock \\n\\n\\nA:       Back pain - MSK strain\\n\\nP:     xray\\nBaclofen + Naproxen\\nchiro/physio\\n\\n\\nActive Medications: \\tDiagnosis: NECK & BACK STRAIN, PROTOPIC 0.1% OINTMENT, SYNTHROID 112 MCG TABLET\\n\\n\\n\\n',\n",
              "        0, 1, 1, 0, 0, 0, 0, 0]], dtype=object)"
            ]
          },
          "metadata": {},
          "execution_count": 28
        }
      ]
    },
    {
      "cell_type": "markdown",
      "source": [
        "I have some questions about the labels. I'm not an expert, but it seems that labels either don't match the doctor's notes, or some important information is missing (likely due to coping from PDFs), or have ambiguous options ([Yes|No] in survey questions without explicitly stating the answer) or the rules for identifying symptoms might need to be reviewed.\n",
        "\n",
        "Let's break down 5 examples (not predicted cancer) from the output:\n",
        "\n",
        "1. It seems that patient has no history of cancer, no health concerns, but was reffered to Colon Cancer Screening Test - which seems to be just a checkup recommendation (rule for FP).\n",
        "2. Similar to the previous example - just recommendations for checkups. However the patient's mother had DM2 (family history?).\n",
        "3. No cancer diagnosis, but a clear family history of diabetes - here is an example when the model predicted diabetes, while the true label for diabetes is 0.\n",
        "4. Doctor stated: \"normal exam\" (MS is not listed in the labels).\n",
        "5. Similar to the above."
      ],
      "metadata": {
        "id": "FQpdECZIdINq"
      }
    },
    {
      "cell_type": "code",
      "source": [
        "print(get_mismatched(res_val, 'cancer').values[0][0])"
      ],
      "metadata": {
        "colab": {
          "base_uri": "https://localhost:8080/"
        },
        "id": "turWFGRgSAes",
        "outputId": "59b8352c-3791-4077-8835-6e3c3039f397"
      },
      "execution_count": null,
      "outputs": [
        {
          "output_type": "stream",
          "name": "stdout",
          "text": [
            "S:     \n",
            "\n",
            "Presents with request to become a new patient of mine. 3 months ago moved to this area with his wife - seeking family physician. \n",
            "\n",
            "PMHx: none\n",
            "\n",
            "PSurgHx: none\n",
            "\n",
            "Daily Medications: none\n",
            "\n",
            "Allergies: NKDA\n",
            "\n",
            "FamilyHx: nothing pertinent \n",
            "\n",
            "SocialHx: Married, 1 Child, Non-Smoker, Drinks Socially and Self-employed - oversee the operation of importing company (retail)\n",
            "\n",
            "ROS: negative\n",
            "\n",
            "O:     \n",
            "\n",
            "Gen: NAD\n",
            "HEENT: NC/AT, PERRLA, EOMI, no throat issues\n",
            "CVS: S1/S2+, RRR, no murmur\n",
            "Resp: CTAB/L\n",
            "LN: no lymphadenopathy\n",
            "\n",
            "A:       \n",
            "\n",
            "Meet and Greet\n",
            "Immunization Review\n",
            "Routine Labs\n",
            "Colon Cancer Screening Test\n",
            "\n",
            "P:     \n",
            "\n",
            "1) I will be happy to accept him into my rostered practice. I will need a copy of their past medical records from any previous PCP's or specialists they may have had.  \n",
            "\n",
            "2) Immunizations were reviewed and Tdap given today, rx for Shingrix and Prevnar 13.  \n",
            "\n",
            "3) Routine labs were sent for today.\n",
            "\n",
            "4) FOBT sent for. \n",
            "\n",
            "\n",
            "Active Medications: \tNone Recorded\n",
            "\n",
            "\n",
            "\n",
            "\n",
            "\n"
          ]
        }
      ]
    },
    {
      "cell_type": "code",
      "source": [
        "get_mismatched(res_val, 'cancer', 'fp').values[:5]"
      ],
      "metadata": {
        "id": "HONpsvYQZYj6",
        "colab": {
          "base_uri": "https://localhost:8080/"
        },
        "outputId": "fd9de03f-3013-4d93-c4e6-f6f636788df4"
      },
      "execution_count": null,
      "outputs": [
        {
          "output_type": "execute_result",
          "data": {
            "text/plain": [
              "array([[\"Reason for referral:  Several family members (mainly from father's side - at least 3 aunts, and others) who have had breast cancer. Patient has a lump in the left breast. Most recent mammogram will be attached. I'd like her to do genetics testing to see her risk levels and if we should do anything other than yearly screening for her. \\n\\nThank you for seeing this patient.  I look forward to hearing from you.\\n\",\n",
              "        0, 0, 0, 0, 0, 0, 1, 0],\n",
              "       ['S:     \\n\\nWith husband - multiple issues to note:\\n\\n1) Flu shot in office today.\\n\\n2) Bilirubin elevated in Florida - suggested she get an U/S of the liver.\\n\\n3) Left cheek - lesion not disappearing after 1 year - possible BCC. \\n\\n\\nO:     \\n\\nGen: NAD\\nIntegumentary: left cheek - possible BCC\\n\\n\\nA:       \\n\\nElevated LFTs\\nImmunizations\\n?BCC\\n\\n\\nP:    \\n\\n1) U/S of abdomen.\\n\\n2) Flu shot given in office today. Prevnar 13 given in office today as well. Already had Pneumovax 23 in Nov 2011. \\n\\n3) Sent to dermatologist for a screen to r/o cancer. \\n\\n\\nActive Medications: \\tFurosemide 40 mg Oral Tablet, Amoxicillin 500 mg Oral Capsule, MACROBID 100 MG CAPSULE, VIGAMOX 0.5 % EYE DROPS, ORACORT 0.1% DENTAL PASTE\\n\\n\\n\\n\\n',\n",
              "        0, 0, 0, 0, 0, 0, 1, 0],\n",
              "       ['S:     \\nMOUTH SX FOR A FEW WEEKS\\nROUGNESS AND DRYNESS INSIDE CHEEKS\\nFELT WORSE AFTER MOUTHWASH \\nIS CONCERNED RE ORAL CANCER\\n\\nHUSBAND HAS MILD EPILEPSY, WHERE HIS ARM RAISES, ETC, SPONTANEOUSLY\\nON VALPROATE TID, SX WORSE IF UNDER STRESS\\nFASTING DURING RAMADAN, BUT SHE IS CONCERNED \\n\\nO:     \\nPT LOOKS WELL\\nI DO SEE PATCHES OF DRYER AREAS (ALMOST ROUGH LOOKING) ON BUCCAL MUCOSA NEAR LOWER TEETH\\n\\nA:       \\nBUCCAL MUCOSA SX NYD\\n\\nP:     \\nDISCUSS NYD DX WITH PATIENT, REFER TO ENT \\nDISCUSS PROS AND CONS OF HUSBAND FASTING DURING RAMADAN, OFFER TO ASSESS HUSBAND IF HE WOULD LIKE BUT MUST RESPECT AUTONOMY\\nRTC AFTER CONSULT OR EARLIER PRN\\n\\n\\nActive Medications: \\tNone Recorded\\n\\n\\n\\n\\n',\n",
              "        0, 0, 0, 1, 0, 0, 1, 0],\n",
              "       [\"S:     \\n\\nPatient presents for 2 reasons:\\n\\n1) OCP refill - Alesse 21's. Admits that she does not use this on some months, as her boyfriend lives in the USA, however she will be travelling there later today for 6 weeks.\\n\\n2) Lump 9 o'clock position left breast just beside areola. She states it has been there for 1 month. It is NOT painful and there is no history of breast cancer in the family. \\n\\n\\nO:     \\n\\nVS: BP - 139/97  P - 77\\n\\nGen: NAD\\nIntegumentary: implants present, left breast 9 o'clock position slight lump to deep palpation\\n\\n\\nA:       \\n\\nBirth Control\\nBreast Lump\\n\\n\\nP:     \\n\\n1) Alesse 21's refilled. Patient warned she must stop smoking - only currently doing 1 cigarette a day but promises she will quit even that when back from her 6 week vacation in the USA.\\n\\n2) I am not very worried about any possibility of cancer or a leakage in her implant. I offered an U/S but she has a flight to catch later today. Advised of steps to take in case it starts to pain her while in the USA. She would like to get the U/S done when back from vacation. \\n\\n\\nActive Medications: \\tALESSE 21 100 MCG-20 MCG TAB, TAMIFLU 75 MG CAPSULE, MYLAN-AMOXICILLIN 500 MG CAP\\n\\n\\n\\n\\n\",\n",
              "        0, 0, 0, 0, 0, 0, 1, 0],\n",
              "       ['Complaints/Health Concerns: physical exam - last done Feb 2016 \\n\\nPrevious Medical History: DM2, HTN, HLD, Psoriasis, Onychomycosis\\n\\nPrevious Surgical History: Cholecystectomy (1977), Appendectomy (1969) \\n\\nCurrent Medications: Metformin 1g po BID, ASA 81mg OD, Telmisartan 80mg OD, Crestor 20 QHS   \\n\\nAllergies: NKDA\\n\\nSocial History: single, 1 son (39yo) \\t\\nSmoking: quit, 1PPD x 17 years\\nETOH: occasional   \\nOccupation: Retired - manager at insurance (commercial lines)  \\nDiet: diabetic\\nExercise: not very often  \\nFamily History: Father - colon cancer (diagnosed at 76yo) and MI; Mother -duodenal ulcer, angina, \"stomach cancer\" (she does not know any more about this - her mother never told her); Sister, Brother and Grandmother - brain aneurysms; Brother - heart attack last year; Maternal Uncles and 1 Aunt have Hashimotos \\n\\nSystemic Inquiry: \\nGeneral: WNL\\nCardiorespiratory: WNL\\nGastrointestinal: left sided abdominal discomfort comes and goes \\nGenitourinary: WNL\\nNeurological: WNL\\nMetabolic/Endocrine: WNL\\nMusculoskeletal: WNL\\nComplimentary Medicine: WNL\\nCultural Health Practices: WNL \\n\\nPHYSICAL EXAM \\n\\nWt - 85.8kg  Ht - 161cm  BP - 114/68 P - 64  \\n\\nGeneral Appearance:\\nSkin: normal\\t\\nENT: normal\\nEyes: normal\\nNeck: normal\\nCVS: normal\\nChest: normal\\nAbdomen: normal\\nMSS: normal\\nCNS: normal\\nExtremities: normal\\n\\nAssessment:\\n\\nRoutine Labs and EKG \\nImmunizations\\nMammogram \\nColon Cancer Screening\\nAneurysm Family History \\n\\n\\nPlan:\\n\\nRoutine labs \\nHad flu shot this year and Tdap last year. Shingles vaccine after Prevnar (today) and Pneumovax (in 8 weeks) vaccinations are completed. \\nUTD with mammogram \\nColonoscopy done last year. \\nMRI already done to r/o aneurysms due to family history - negative.  \\n',\n",
              "        0, 0, 0, 0, 0, 1, 1, 1]], dtype=object)"
            ]
          },
          "metadata": {},
          "execution_count": 29
        }
      ]
    },
    {
      "cell_type": "code",
      "source": [],
      "metadata": {
        "id": "5XULY0lbRzBN"
      },
      "execution_count": null,
      "outputs": []
    },
    {
      "cell_type": "markdown",
      "source": [
        "#### Harmonized\n",
        "How well the model predicts healthy vs. not healthy patient?"
      ],
      "metadata": {
        "id": "igFW6T3xR8n6"
      }
    },
    {
      "cell_type": "code",
      "source": [
        "def harmonize_row(row):\n",
        "    if (row == 1).any():\n",
        "        return 1\n",
        "    return 0"
      ],
      "metadata": {
        "id": "bPmqMw_sRy9w"
      },
      "execution_count": null,
      "outputs": []
    },
    {
      "cell_type": "code",
      "source": [
        "y_true_df = res_val.loc[:,['stroke',\t'diabetes',\t'cancer',\t'heart_attack']].copy()\n",
        "y_pred_df = res_val.loc[:,['stroke_pred',\t'diabetes_pred',\t'cancer_pred',\t'heart_attack_pred']].copy()\n",
        "\n",
        "y_true_df_harmonized = y_true_df.apply(harmonize_row, axis=1)\n",
        "y_pred_df_harmonized = y_pred_df.apply(harmonize_row, axis=1)\n",
        "\n",
        "res_val_harmonized = pd.concat([y_true_df_harmonized, y_pred_df_harmonized], axis=1)\n",
        "res_val_harmonized.columns = ['harmonized', 'harmonized_pred']"
      ],
      "metadata": {
        "id": "oXBK3PIfRy7c"
      },
      "execution_count": null,
      "outputs": []
    },
    {
      "cell_type": "code",
      "source": [
        "show_metrics(res_val_harmonized)"
      ],
      "metadata": {
        "colab": {
          "base_uri": "https://localhost:8080/"
        },
        "id": "FN3KjlC4Ry5N",
        "outputId": "539dbf00-5fd8-48a0-ee9c-bb6957f068e5"
      },
      "execution_count": null,
      "outputs": [
        {
          "output_type": "stream",
          "name": "stdout",
          "text": [
            "=== Harmonized ===\n",
            "  TP: 62,  FP: 40,  FN: 21,  TN: 27\n",
            "  Precision: 0.61\n",
            "  Recall (Sensitivity): 0.75\n",
            "  F1 Score: 0.67\n",
            "  F2 Score: 0.71\n",
            "\n"
          ]
        }
      ]
    },
    {
      "cell_type": "markdown",
      "source": [
        "The score is slightly better."
      ],
      "metadata": {
        "id": "FqTHAEr2k9nS"
      }
    },
    {
      "cell_type": "code",
      "source": [],
      "metadata": {
        "id": "zIvnW6G9VXGt"
      },
      "execution_count": null,
      "outputs": []
    },
    {
      "cell_type": "markdown",
      "source": [
        "## Future Work\n",
        "1. Optimize prompt with DSPy\n",
        "2. Fine-tune model on this dataset with QLoRA/LoRA\n",
        "3. Review the dataset"
      ],
      "metadata": {
        "id": "UgV7kxMS21P5"
      }
    },
    {
      "cell_type": "code",
      "source": [],
      "metadata": {
        "id": "ER1cNA7y3PRp"
      },
      "execution_count": null,
      "outputs": []
    }
  ]
}